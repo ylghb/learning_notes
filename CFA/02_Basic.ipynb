{
 "cells": [
  {
   "cell_type": "markdown",
   "metadata": {},
   "source": [
    "    $ ll\n",
    "    total 380\n",
    "    -rw-r--r-- 1 mluo 197121  50542 Oct  9 16:36 02_CSV_stock_returns_1931_2002.csv\n",
    "    -rw-r--r-- 1 mluo 197121  12662 Oct  9 16:34 02_CSV_xm101stu.csv\n",
    "    -rw-r--r-- 1 mluo 197121 312615 Oct  7 15:43 02_TOPIX86修正.xlsx\n",
    "    \n",
    "    $ head 02_CSV_xm101stu.csv\n",
    "    fem,fgpa,sata,satm,satv\n",
    "    1,2.518,4,4,4\n",
    "    0,2.326,4,4.9,3.1\n",
    "    1,3.003,4.2,4.4,4\n",
    "    0,2.111,4.4,4.9,3.9\n",
    "    0,2.145,4.5,4.3,4.7\n",
    "    1,1.917,4.6,5.1,4.1\n",
    "    0,2.725,4.7,4.9,4.5\n",
    "    1,3.364,4.75,4.9,4.6\n",
    "    1,2.472,4.75,4.4,5.1"
   ]
  },
  {
   "cell_type": "code",
   "execution_count": 22,
   "metadata": {
    "collapsed": false
   },
   "outputs": [
    {
     "data": {
      "text/html": [
       "<div>\n",
       "<table border=\"1\" class=\"dataframe\">\n",
       "  <thead>\n",
       "    <tr style=\"text-align: right;\">\n",
       "      <th></th>\n",
       "      <th>fem</th>\n",
       "      <th>fgpa</th>\n",
       "      <th>sata</th>\n",
       "      <th>satm</th>\n",
       "      <th>satv</th>\n",
       "    </tr>\n",
       "  </thead>\n",
       "  <tbody>\n",
       "    <tr>\n",
       "      <th>0</th>\n",
       "      <td>1</td>\n",
       "      <td>2.518</td>\n",
       "      <td>4.0</td>\n",
       "      <td>4.0</td>\n",
       "      <td>4.0</td>\n",
       "    </tr>\n",
       "    <tr>\n",
       "      <th>1</th>\n",
       "      <td>0</td>\n",
       "      <td>2.326</td>\n",
       "      <td>4.0</td>\n",
       "      <td>4.9</td>\n",
       "      <td>3.1</td>\n",
       "    </tr>\n",
       "    <tr>\n",
       "      <th>2</th>\n",
       "      <td>1</td>\n",
       "      <td>3.003</td>\n",
       "      <td>4.2</td>\n",
       "      <td>4.4</td>\n",
       "      <td>4.0</td>\n",
       "    </tr>\n",
       "    <tr>\n",
       "      <th>3</th>\n",
       "      <td>0</td>\n",
       "      <td>2.111</td>\n",
       "      <td>4.4</td>\n",
       "      <td>4.9</td>\n",
       "      <td>3.9</td>\n",
       "    </tr>\n",
       "    <tr>\n",
       "      <th>4</th>\n",
       "      <td>0</td>\n",
       "      <td>2.145</td>\n",
       "      <td>4.5</td>\n",
       "      <td>4.3</td>\n",
       "      <td>4.7</td>\n",
       "    </tr>\n",
       "  </tbody>\n",
       "</table>\n",
       "</div>"
      ],
      "text/plain": [
       "   fem   fgpa  sata  satm  satv\n",
       "0    1  2.518   4.0   4.0   4.0\n",
       "1    0  2.326   4.0   4.9   3.1\n",
       "2    1  3.003   4.2   4.4   4.0\n",
       "3    0  2.111   4.4   4.9   3.9\n",
       "4    0  2.145   4.5   4.3   4.7"
      ]
     },
     "execution_count": 22,
     "metadata": {},
     "output_type": "execute_result"
    }
   ],
   "source": [
    "from pandas import Series, DataFrame\n",
    "import pandas as pd\n",
    "\n",
    "df = pd.read_csv('02_CSV_xm101stu.csv')  # print type(df)\n",
    "df.head(n=5)"
   ]
  },
  {
   "cell_type": "code",
   "execution_count": 23,
   "metadata": {
    "collapsed": false
   },
   "outputs": [],
   "source": [
    "# print df.head(n=5).fgpa\n",
    "# print df.head(n=5).satv\n",
    "# print df.head(n=5).sum()\n",
    "# print df.head(n=5).sum(axis=1)\n",
    "#df.head(n=5).describe().T"
   ]
  },
  {
   "cell_type": "code",
   "execution_count": 24,
   "metadata": {
    "collapsed": false
   },
   "outputs": [
    {
     "name": "stdout",
     "output_type": "stream",
     "text": [
      "         0.9    0.95     0.99     0.999      skew      kurt       mad\n",
      "fem   1.0000  1.0000  1.00000  1.000000  0.462894 -1.791623  0.474697\n",
      "fgpa  3.4318  3.6142  3.80244  3.957016  0.168243 -0.483604  0.372045\n",
      "sata  6.5500  6.7000  7.09600  7.539200 -0.100793  0.603836  0.404373\n",
      "satm  7.0000  7.2000  7.50000  7.839200 -0.198295  0.410504  0.468404\n",
      "satv  6.5000  6.7000  7.19200  7.478400  0.162597 -0.016049  0.540545\n"
     ]
    }
   ],
   "source": [
    "dfsum=df.quantile([.90, .95, .99, .999]).T\n",
    "dfsum['skew']=df.skew()\n",
    "dfsum['kurt']=df.kurt()\n",
    "dfsum['mad'] =df.mad()\n",
    "print dfsum"
   ]
  },
  {
   "cell_type": "code",
   "execution_count": 25,
   "metadata": {
    "collapsed": false
   },
   "outputs": [
    {
     "name": "stdout",
     "output_type": "stream",
     "text": [
      "corr of sata vs satm 0.774835765646\n",
      "           fem      fgpa      sata      satm      satv\n",
      "fem   1.000000  0.176491 -0.072982 -0.162680  0.033577\n",
      "fgpa  0.176491  1.000000  0.174910  0.195040  0.092167\n",
      "sata -0.072982  0.174910  1.000000  0.774836  0.828414\n",
      "satm -0.162680  0.195040  0.774836  1.000000  0.287801\n",
      "satv  0.033577  0.092167  0.828414  0.287801  1.000000\n",
      "           fem      fgpa      sata      satm      satv\n",
      "fem   0.237739  0.039605 -0.018124 -0.047256  0.011008\n",
      "fgpa  0.039605  0.211819  0.041001  0.053479  0.028522\n",
      "sata -0.018124  0.041001  0.259409  0.235113  0.283704\n",
      "satm -0.047256  0.053479  0.235113  0.354936  0.115290\n",
      "satv  0.011008  0.028522  0.283704  0.115290  0.452118\n"
     ]
    }
   ],
   "source": [
    "print 'corr of sata vs satm ' + str(df.sata.corr(df.satm))\n",
    "print df.corr()\n",
    "print df.cov()"
   ]
  },
  {
   "cell_type": "code",
   "execution_count": 26,
   "metadata": {
    "collapsed": false
   },
   "outputs": [
    {
     "name": "stdout",
     "output_type": "stream",
     "text": [
      "0    373\n",
      "1    236\n",
      "Name: fem, dtype: int64\n",
      "4.0    2\n",
      "4.2    1\n",
      "4.4    1\n",
      "4.5    1\n",
      "4.6    1\n",
      "Name: sata, dtype: int64\n",
      "5.65    26\n",
      "5.85    26\n",
      "5.80    24\n",
      "5.75    24\n",
      "6.20    23\n",
      "6.10    23\n",
      "6.05    23\n",
      "5.55    22\n",
      "6.25    22\n",
      "6.30    21\n",
      "Name: sata, dtype: int64\n"
     ]
    }
   ],
   "source": [
    "print df.fem.value_counts()\n",
    "print df.sata.value_counts().sort_index().head(n=5)\n",
    "print df.sata.value_counts(sort=True).head(n=10)"
   ]
  },
  {
   "cell_type": "code",
   "execution_count": 27,
   "metadata": {
    "collapsed": false
   },
   "outputs": [
    {
     "name": "stdout",
     "output_type": "stream",
     "text": [
      "     topix      rortpx     y  m  d      date\n",
      "0  1049.13           .  1986  1  4  19860104\n",
      "1  1040.92 -0.00785631  1986  1  6  19860106\n",
      "2  1033.47 -0.00718287  1986  1  7  19860107\n",
      "3  1037.91    0.004287  1986  1  8  19860108\n",
      "4  1032.83 -0.00490647  1986  1  9  19860109\n"
     ]
    }
   ],
   "source": [
    "# 读取Excel文件\n",
    "\n",
    "xls_data = pd.read_excel(u'02_TOPIX86修正.xlsx', sheetname='TOPIX86')\n",
    "print(xls_data.head(n=5))"
   ]
  },
  {
   "cell_type": "code",
   "execution_count": 37,
   "metadata": {
    "collapsed": false
   },
   "outputs": [
    {
     "data": {
      "text/plain": [
       "<matplotlib.axes._subplots.AxesSubplot at 0xc5bb908>"
      ]
     },
     "execution_count": 37,
     "metadata": {},
     "output_type": "execute_result"
    },
    {
     "data": {
      "image/png": "[encoded data removed]",
      "text/plain": [
       "<matplotlib.figure.Figure at 0xc5c6588>"
      ]
     },
     "metadata": {},
     "output_type": "display_data"
    }
   ],
   "source": [
    "# 绘图!\n",
    "\n",
    "#import numpy as np\n",
    "#import matplotlib.pyplot as plt\n",
    "#plt.plot(np.arange(10))\n",
    "\n",
    "# 使用pandas简单绘图\n",
    "df.sata.hist(bins=50)\n"
   ]
  },
  {
   "cell_type": "code",
   "execution_count": null,
   "metadata": {
    "collapsed": true
   },
   "outputs": [],
   "source": [
    "\n",
    "\n"
   ]
  }
 ],
 "metadata": {
  "anaconda-cloud": {},
  "kernelspec": {
   "display_name": "Python [Root]",
   "language": "python",
   "name": "Python [Root]"
  },
  "language_info": {
   "codemirror_mode": {
    "name": "ipython",
    "version": 2
   },
   "file_extension": ".py",
   "mimetype": "text/x-python",
   "name": "python",
   "nbconvert_exporter": "python",
   "pygments_lexer": "ipython2",
   "version": "2.7.12"
  }
 },
 "nbformat": 4,
 "nbformat_minor": 0
}
