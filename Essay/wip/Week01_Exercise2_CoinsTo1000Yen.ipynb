{
 "cells": [
  {
   "cell_type": "markdown",
   "metadata": {},
   "source": [
    "We have unlimited 100Yen, 200Yen and 500Yen coins. To make up 10000 yen, list up all possiable combinations.\n",
    "\n",
    "Input:   coins(10000,100,200,500)\n",
    "Output:  \n",
    "        500Yen * 20;\n",
    "        500Yen * 19, 200Yen * 2, 100Yen * 1;\n",
    "        .......\n",
    "        100Yen * 100;"
   ]
  },
  {
   "cell_type": "code",
   "execution_count": 1,
   "metadata": {
    "collapsed": false
   },
   "outputs": [
    {
     "name": "stdout",
     "output_type": "stream",
     "text": [
      "500Yen * 2 ;\n",
      "500Yen * 1 , 200Yen * 2 , 100Yen * 1 ;\n",
      "500Yen * 1 , 200Yen * 1 , 100Yen * 3 ;\n",
      "500Yen * 1 , 100Yen * 5 ;\n",
      "200Yen * 5 ;\n",
      "200Yen * 4 , 100Yen * 2 ;\n",
      "200Yen * 3 , 100Yen * 4 ;\n",
      "200Yen * 2 , 100Yen * 6 ;\n",
      "200Yen * 1 , 100Yen * 8 ;\n",
      "100Yen * 10 ;\n"
     ]
    }
   ],
   "source": [
    "#print 500/200\n",
    "\n",
    "Coin500 = 500\n",
    "Coin200 = 200\n",
    "Coin100 = 100\n",
    "Sum     = 1000\n",
    "answers = []\n",
    "#  [19,2,1]   500Yen * 19, 200Yen * 2, 100Yen * 1 ;\n",
    "#  [0,0,100]  100Yen * 100 ;\n",
    "\n",
    "\n",
    "def coins(Sum, Coin500, Coin200, Coin100):\n",
    "    answers = [] \n",
    "    Count500 = 0;Count200 = 0;Count100 = 0\n",
    "    for Count500 in reversed(range(0,Sum/Coin500+1)):\n",
    "        left_after_coin500 = Sum - Count500 * Coin500\n",
    "        for Count200 in reversed(range(0,left_after_coin500/Coin200+1)):\n",
    "            left_after_coin200 = left_after_coin500 - Count200 * Coin200\n",
    "            Count100 = left_after_coin200/Coin100\n",
    "            answers.append ([Count500, Count200,Count100])\n",
    "            #print Count500, Count200,Count100 \n",
    "    return answers   \n",
    "        \n",
    "\n",
    "def pretty_print_answer(answers):\n",
    "    for item in answers:\n",
    "        print ('','500Yen * '+str(item[0]))[item[0] != 0]+('', ' , ')[item[0] != 0 and (item[1] != 0 or item[2] != 0)] \\\n",
    "             +('','200Yen * '+str(item[1]))[item[1] != 0]+('', ' , ')[item[1] != 0 and item[2] != 0] \\\n",
    "             +('','100Yen * '+str(item[2]))[item[2] != 0]+' ;'\n",
    "    # Falseは0、Trueは1になることを利用\n",
    "    \n",
    "\n",
    "pretty_print_answer(coins(Sum, Coin500, Coin200, Coin100)    )\n",
    "    "
   ]
  },
  {
   "cell_type": "code",
   "execution_count": null,
   "metadata": {
    "collapsed": true
   },
   "outputs": [],
   "source": []
  }
 ],
 "metadata": {
  "anaconda-cloud": {},
  "kernelspec": {
   "display_name": "Python [Root]",
   "language": "python",
   "name": "Python [Root]"
  },
  "language_info": {
   "codemirror_mode": {
    "name": "ipython",
    "version": 2
   },
   "file_extension": ".py",
   "mimetype": "text/x-python",
   "name": "python",
   "nbconvert_exporter": "python",
   "pygments_lexer": "ipython2",
   "version": "2.7.12"
  }
 },
 "nbformat": 4,
 "nbformat_minor": 0
}
