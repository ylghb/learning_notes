{
 "cells": [
  {
   "cell_type": "code",
   "execution_count": 1,
   "metadata": {},
   "outputs": [
    {
     "name": "stdout",
     "output_type": "stream",
     "text": [
      "我拿到了5!\n",
      "我拿到了4!\n",
      "我拿到了3!\n",
      "我只要3,4,5就行啦\n",
      "程序结束\n"
     ]
    }
   ],
   "source": [
    "def consumer():\n",
    "    status = True\n",
    "    while True:\n",
    "        n = yield status\n",
    "        print(\"我拿到了{}!\".format(n))\n",
    "        if n == 3:\n",
    "            status = False\n",
    "\n",
    "def producer(consumer):\n",
    "    n = 5\n",
    "    while n > 0:\n",
    "    # yield给主程序返回消费者的状态\n",
    "        yield consumer.send(n)\n",
    "        n -= 1\n",
    "\n",
    "if __name__ == '__main__':\n",
    "    c = consumer()\n",
    "    c.send(None)\n",
    "    p = producer(c)\n",
    "    for status in p:\n",
    "        if status == False:\n",
    "            print(\"我只要3,4,5就行啦\")\n",
    "            break\n",
    "    print(\"程序结束\")"
   ]
  },
  {
   "cell_type": "code",
   "execution_count": null,
   "metadata": {
    "collapsed": true
   },
   "outputs": [],
   "source": []
  }
 ],
 "metadata": {
  "kernelspec": {
   "display_name": "Python 3",
   "language": "python",
   "name": "python3"
  },
  "language_info": {
   "codemirror_mode": {
    "name": "ipython",
    "version": 3
   },
   "file_extension": ".py",
   "mimetype": "text/x-python",
   "name": "python",
   "nbconvert_exporter": "python",
   "pygments_lexer": "ipython3",
   "version": "3.5.2"
  }
 },
 "nbformat": 4,
 "nbformat_minor": 2
}
