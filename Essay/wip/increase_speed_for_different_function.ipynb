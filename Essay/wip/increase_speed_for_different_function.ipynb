{
 "cells": [
  {
   "cell_type": "code",
   "execution_count": 2,
   "metadata": {},
   "outputs": [
    {
     "data": {
      "image/png": "[encoded data removed]",
      "text/plain": [
       "<matplotlib.figure.Figure at 0x7fdedfce4390>"
      ]
     },
     "metadata": {},
     "output_type": "display_data"
    }
   ],
   "source": [
    "import math\n",
    "import matplotlib.pyplot as plt\n",
    "import numpy as np\n",
    "\n",
    "x = np.arange (0.05, 3, 0.05)\n",
    "y1 = [math.log(a,1.5) for a in x]\n",
    "y2 = [math.log(a,2  ) for a in x]\n",
    "y3 = [math.log(a,3  ) for a in x]\n",
    "\n",
    "plt.plot(x, y1,  color='#007500', label='log1.5(x)')\n",
    "plt.plot(x, y2,  color='#9F35FF', label='log2  (x)')\n",
    "plt.plot(x, y3,  color='#F75000', label='log3  (x)')\n",
    "\n",
    "plt.plot((1,1),(y1[0],y1[-1]),'-')\n",
    "\n",
    "plt.plot\n",
    "\n",
    "plt.legend(loc = 'lower right')\n",
    "plt.grid(True)\n",
    "\n",
    "plt.show()"
   ]
  },
  {
   "cell_type": "code",
   "execution_count": null,
   "metadata": {},
   "outputs": [],
   "source": [
    "import math\n",
    "import matplotlib.pyplot as plt\n",
    "import numpy as np\n",
    "\n",
    "x = np.arange (1, 5)\n",
    "y1 = [math.pow(a, a)  for a in x]\n",
    "y2 = [math.factorial(a) for a in x]\n",
    "y3 = [math.log(a,3  ) for a in x]\n",
    "\n",
    "plt.plot(x, y1,  color='#007500', label='log1.5(x)')\n",
    "plt.plot(x, y2,  color='#9F35FF', label='log2  (x)')\n",
    "plt.plot(x, y3,  color='#F75000', label='log3  (x)')\n",
    "\n",
    "plt.plot((1,1),(y1[0],y1[-1]),'-')\n",
    "\n",
    "plt.plot\n",
    "\n",
    "plt.legend(loc = 'lower right')\n",
    "plt.grid(True)\n",
    "\n",
    "plt.show()"
   ]
  },
  {
   "cell_type": "code",
   "execution_count": 7,
   "metadata": {},
   "outputs": [
    {
     "data": {
      "text/plain": [
       "array([ 1,  2,  3,  4,  5,  6,  7,  8,  9, 10, 11, 12, 13, 14, 15, 16, 17,\n",
       "       18, 19, 20, 21, 22, 23, 24, 25, 26, 27, 28, 29, 30, 31, 32, 33, 34,\n",
       "       35, 36, 37, 38, 39, 40, 41, 42, 43, 44, 45, 46, 47, 48, 49, 50, 51,\n",
       "       52, 53, 54, 55, 56, 57, 58, 59, 60, 61, 62, 63, 64, 65, 66, 67, 68,\n",
       "       69, 70, 71, 72, 73, 74, 75, 76, 77, 78, 79, 80, 81, 82, 83, 84, 85,\n",
       "       86, 87, 88, 89, 90, 91, 92, 93, 94, 95, 96, 97, 98, 99])"
      ]
     },
     "execution_count": 7,
     "metadata": {},
     "output_type": "execute_result"
    }
   ],
   "source": [
    "np.arange (1, 100)"
   ]
  }
 ],
 "metadata": {
  "kernelspec": {
   "display_name": "Python 3",
   "language": "python",
   "name": "python3"
  },
  "language_info": {
   "codemirror_mode": {
    "name": "ipython",
    "version": 3
   },
   "file_extension": ".py",
   "mimetype": "text/x-python",
   "name": "python",
   "nbconvert_exporter": "python",
   "pygments_lexer": "ipython3",
   "version": "3.5.1"
  }
 },
 "nbformat": 4,
 "nbformat_minor": 2
}
