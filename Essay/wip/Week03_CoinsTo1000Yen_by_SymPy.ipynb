{
 "cells": [
  {
   "cell_type": "markdown",
   "metadata": {},
   "source": [
    "We have unlimited 1Yen,2Yen,5Yen coins. To make up 10Yen, list up all possiable cominations.\n",
    "\n",
    "Obviously, (0,0,2) and (10,0,0) are two of answers.\n",
    "\n",
    "Considering  \n",
    "<img src=\"http://chart.googleapis.com/chart?cht=tx&chl=(1%2Bx%2Bx^2%2Bx^3%2Bx^4%2Bx^5%2Bx^6%2Bx^7%2Bx^8%2Bx^9%2Bx^{10})*(1%2Bx^2%2Bx^4%2Bx^6%2Bx^8%2Bx^{10})*(1%2Bx^5%2Bx^{10})\" style=\"border:none;\" />\n",
    "\n",
    "Noted that “+” should be replaced as %2B, as in URL \"+\" means apace.\n",
    "\n",
    "Look at x^10, we have <img src=\"http://chart.googleapis.com/chart?cht=tx&chl=  1*1*x^10%2Bx^5*1*x^5%2Bx^3*x^2*x^5%2Bx^1*x^4*x^5%2Bx^10*1*1%2Bx^8*x^2*1%2B...%2B1*x^10*1        \" style=\"border:none;\" />"
   ]
  },
  {
   "cell_type": "markdown",
   "metadata": {},
   "source": [
    "1+z[1]^1*x+z[1]^2x^2+....+z[1]^{10}x^{10}"
   ]
  },
  {
   "cell_type": "markdown",
   "metadata": {
    "collapsed": true
   },
   "source": [
    "<img src=\"http://chart.googleapis.com/chart?cht=tx&chl=  1%2Bz_1^{ 1}*x^1%2Bx^3*x^2*x^5%2Bx^1*x^4*x^5%2Bx^10*1*1%2Bx^8*x^2*1%2B...%2B1*x^10*1        \" style=\"border:none;\" />"
   ]
  },
  {
   "cell_type": "markdown",
   "metadata": {},
   "source": [
    "有关如何在Markdown中调用数学公式绘制\n",
    "\n",
    "语法\n",
    "http://oiltang.com/2014/05/04/markdown-and-mathjax/\n",
    "http://www.tuicool.com/articles/mEzqeaM\n",
    "\n",
    "\n",
    "数学公式生成器\n",
    "http://www.ruanyifeng.com/webapp/formula.html\n",
    "\n",
    "Markdown中插入数学公式的方法\n",
    "http://blog.csdn.net/xiahouzuoxin/article/details/26478179\n",
    "\n",
    "\n",
    "SymPy vs. Mathematica\n",
    "https://github.com/sympy/sympy/wiki/SymPy-vs.-Mathematica\n"
   ]
  },
  {
   "cell_type": "markdown",
   "metadata": {},
   "source": []
  },
  {
   "cell_type": "code",
   "execution_count": null,
   "metadata": {
    "collapsed": true
   },
   "outputs": [],
   "source": []
  }
 ],
 "metadata": {
  "anaconda-cloud": {},
  "kernelspec": {
   "display_name": "Python [Root]",
   "language": "python",
   "name": "Python [Root]"
  },
  "language_info": {
   "codemirror_mode": {
    "name": "ipython",
    "version": 2
   },
   "file_extension": ".py",
   "mimetype": "text/x-python",
   "name": "python",
   "nbconvert_exporter": "python",
   "pygments_lexer": "ipython2",
   "version": "2.7.12"
  }
 },
 "nbformat": 4,
 "nbformat_minor": 0
}
