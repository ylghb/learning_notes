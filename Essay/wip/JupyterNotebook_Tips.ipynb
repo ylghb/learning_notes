{
 "cells": [
  {
   "cell_type": "raw",
   "metadata": {
    "slideshow": {
     "slide_type": "slide"
    }
   },
   "source": [
    "28 Jupyter Notebook tips, tricks and shortcuts\n",
    "https://www.dataquest.io/blog/jupyter-notebook-tips-tricks-shortcuts/"
   ]
  },
  {
   "cell_type": "code",
   "execution_count": 4,
   "metadata": {
    "slideshow": {
     "slide_type": "slide"
    }
   },
   "outputs": [
    {
     "name": "stdout",
     "output_type": "stream",
     "text": [
      "births1880.csv\t\t     Python3_Panda_Tutorial.ipynb\r\n",
      "data1.txt\t\t     Python_Decorator_理解Python的装饰器.ipynb\r\n",
      "file.mat\t\t     Python_SciPy.ipynb\r\n",
      "JupyterNotebook_Test.ipynb   PythonWeb开发实战_标准环境.txt\r\n",
      "K近邻算法.ipynb\t\t     Python_理解Python中的yield.ipynb\r\n",
      "MathGuess.ipynb\t\t     R-test.ipynb\r\n",
      "Python2_String_Encode.ipynb  微积分和梯度.ipynb\r\n"
     ]
    }
   ],
   "source": [
    "!ls"
   ]
  },
  {
   "cell_type": "raw",
   "metadata": {},
   "source": [
    "https://stackoverflow.com/questions/20197471/how-to-display-line-numbers-in-ipython-notebook-code-cell-by-default/20197878\n",
    "http://stackoverflow.com/questions/22386359/how-to-change-font-in-ipython-notebook\n",
    "\n",
    "https://www.zhihu.com/question/40012144\n",
    "https://github.com/dunovank/jupyter-themes"
   ]
  },
  {
   "cell_type": "raw",
   "metadata": {},
   "source": [
    "TAB completion in Jupyter Notebook\n",
    "pip install pyreadline\n"
   ]
  },
  {
   "cell_type": "raw",
   "metadata": {},
   "source": [
    "shutdown jupyter \n",
    "\n",
    "echo 'alias quitjupyter=\"kill $(pgrep jupyter)\"' >> ~/.bashrc"
   ]
  },
  {
   "cell_type": "code",
   "execution_count": 3,
   "metadata": {},
   "outputs": [
    {
     "name": "stdout",
     "output_type": "stream",
     "text": [
      "/bin/sh: workon: command not found\n",
      "Requirement already satisfied: pandas in /root/.virtualenvs/p27/lib/python2.7/site-packages\n",
      "Requirement already satisfied: pytz>=2011k in /root/.virtualenvs/p27/lib/python2.7/site-packages (from pandas)\n",
      "Requirement already satisfied: python-dateutil in /root/.virtualenvs/p27/lib/python2.7/site-packages (from pandas)\n",
      "Requirement already satisfied: numpy>=1.7.0 in /root/.virtualenvs/p27/lib/python2.7/site-packages (from pandas)\n",
      "Requirement already satisfied: six>=1.5 in /root/.virtualenvs/p27/lib/python2.7/site-packages (from python-dateutil->pandas)\n"
     ]
    }
   ],
   "source": [
    "!workon p35\n",
    "!pip install pandas\n"
   ]
  },
  {
   "cell_type": "markdown",
   "metadata": {},
   "source": [
    "use below code to insert img \n",
    "\n",
    "<img src='https://alicdn.ricequant.com/upload/cd/0462a17a99f6231ab6311b4e73603dcd.png'>"
   ]
  },
  {
   "cell_type": "code",
   "execution_count": 2,
   "metadata": {},
   "outputs": [
    {
     "name": "stdout",
     "output_type": "stream",
     "text": [
      "Warning: bad syntax, perhaps a bogus '-'? See /usr/share/doc/procps-3.2.8/FAQ\r\n",
      "root      1091  0.0  2.5 449416 27140 ?        Sl   Mar16   6:31 /root/.virtualenvs/p27/bin/python2.7 /root/.virtualenvs/p27/bin/jupyter-notebook\r\n",
      "root     21551  0.0  3.6 754448 38540 ?        Ssl  21:26   0:02 /root/.virtualenvs/p35/bin/python -m ipykernel -f /root/.local/share/jupyter/runtime/kernel-e9db0653-7b75-415f-957f-4fe03a237e2f.json\r\n",
      "root     21577  2.7  3.4 755756 36484 ?        Ssl  22:11   0:01 /root/.virtualenvs/p27/bin/python2.7 -m ipykernel -f /root/.local/share/jupyter/runtime/kernel-95d8f2a2-4661-436f-a63a-635efec8a470.json\r\n",
      "root     21590  0.0  0.1 108172  1348 pts/0    Ss+  22:12   0:00 /bin/sh -c ps -aux | grep jupyter\r\n",
      "root     21592  0.0  0.0 103312   872 pts/0    S+   22:12   0:00 grep jupyter\r\n"
     ]
    }
   ],
   "source": [
    "!ps -aux | grep jupyter"
   ]
  },
  {
   "cell_type": "code",
   "execution_count": 6,
   "metadata": {},
   "outputs": [
    {
     "name": "stdout",
     "output_type": "stream",
     "text": [
      "/root/.ipython\n",
      "total 368\n",
      "drwxr-xr-x 7 root root   4096 Apr  1 22:17 .\n",
      "drwxr-xr-x 5 root root   4096 Sep  7  2016 ..\n",
      "drwxr-xr-x 2 root root   4096 Sep  7  2016 db\n",
      "-rw-r--r-- 1 root root 343040 Apr  1 22:17 history.sqlite\n",
      "drwxr-xr-x 2 root root   4096 Sep  7  2016 log\n",
      "drwx------ 2 root root   4096 Sep  7  2016 pid\n",
      "drwx------ 2 root root   4096 Sep  7  2016 security\n",
      "drwxr-xr-x 2 root root   4096 Sep  7  2016 startup\n"
     ]
    }
   ],
   "source": [
    "!ipython locate\n",
    "!ls -al /root/.ipython/profile_default\n"
   ]
  },
  {
   "cell_type": "markdown",
   "metadata": {},
   "source": [
    "# H1\n",
    "## H2\n",
    "### H3\n",
    "\n",
    "---\n",
    "abcdefghk\n",
    "\n",
    "You can use LaTeX **in line** by like this $y = x^2$ or **in block** like this $$y = x^2$$\n",
    "\n"
   ]
  }
 ],
 "metadata": {
  "kernelspec": {
   "display_name": "Python 2",
   "language": "python",
   "name": "python2"
  },
  "language_info": {
   "codemirror_mode": {
    "name": "ipython",
    "version": 2
   },
   "file_extension": ".py",
   "mimetype": "text/x-python",
   "name": "python",
   "nbconvert_exporter": "python",
   "pygments_lexer": "ipython2",
   "version": "2.7.12"
  }
 },
 "nbformat": 4,
 "nbformat_minor": 1
}
