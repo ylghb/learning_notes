{
 "cells": [
  {
   "cell_type": "raw",
   "metadata": {},
   "source": [
    "https://www.zhihu.com/question/57124173\n",
    "\n",
    "有一个猜想，大家帮忙证明一下它的正确与否：\n",
    "1.取任意多个0~9之间的数（数字可重复），例如1，3，3，5，2。\n",
    "2.把他们任意组合成新的数，例如31，5，3，2或者1，32，35。\n",
    "3.把新的数相加31+5+3+2=41，1+32+35=68。\n",
    "4.取和的各位数得到新的0~9之间的数：4，1    6，8。\n",
    "5.重复以上步骤，直到和为个位数。\n",
    "\n",
    "结论：最初的数确定后，无论以什么样的顺序组合，得到的结果是唯一的：4+1=5，6+8=14，14为十位数继续操作1+4=5"
   ]
  },
  {
   "cell_type": "raw",
   "metadata": {},
   "source": [
    "20 个随机数\n",
    "任意组合--->  依次生成一个 1 到 len(list) 之间的 随机数 并结合这个随机数指定的前N位,\n",
    "eg, [1, 6, 3, 7, 8, 1, 1, 1, 1, 3, 9, 6]  --> 3,  则先输出163"
   ]
  },
  {
   "cell_type": "code",
   "execution_count": 4,
   "metadata": {},
   "outputs": [
    {
     "name": "stdout",
     "output_type": "stream",
     "text": [
      "[5][5][5][5][5][5][5][5][5][5][5][5][5][5][5][5][5][5][5][5][5][5][5][5][5][5][5][5][5][5][5][5][5][5][5][5][5][5][5][5][5][5][5][5][5][5][5][5][5][5][5][5][5][5][5][5][5][5][5][5][5][5][5][5][5][5][5][5][5][5][5][5][5][5][5][5][5][5][5][5][5][5][5][5][5][5][5][5][5][5][5][5][5][5][5][5][5][5][5][5]"
     ]
    }
   ],
   "source": [
    "import random\n",
    "\n",
    "RAW_NUMBERS = 200   #生成的随机数数量\n",
    "TRY_NUMBERS = 100   #计算的回数\n",
    "\n",
    "old_raw_numbers= []\n",
    "for i in range(RAW_NUMBERS):\n",
    "    old_raw_numbers.append(int(10 * random.random()))\n",
    "#old_raw_numbers=[7, 2, 2, 5, 6, 9, 2, 1, 2, 9, 7, 1, 6, 9, 4, 1, 2, 0, 7, 0]\n",
    "#print raw_numbers\n",
    "#print len(raw_numbers)\n",
    "\n",
    "\n",
    "for i in range(TRY_NUMBERS):\n",
    "    raw_numbers = list(old_raw_numbers)  #重新构建一个列表\n",
    "    random.shuffle(raw_numbers)          #列表内元素洗牌\n",
    "    #print (raw_numbers);\n",
    "    while(len(raw_numbers)>1):\n",
    "        combined_numbers = []\n",
    "        index = 0\n",
    "        while(index < len(raw_numbers)):\n",
    "            step = int(random.random() * (len(raw_numbers)-index))+1\n",
    "            # e.g. 有20个元素, 会依次生成一个step, 并且结合step所指定的数量的元素为一个新的数\n",
    "            #print(\"step is \" + str(step))\n",
    "            #print( raw_numbers[index:index+step] )\n",
    "            temp = ''.join(str(x) for x in raw_numbers[index:index+step])\n",
    "            combined_numbers.append(int(temp))\n",
    "            #print type(temp), int(temp)\n",
    "            index += step\n",
    "            #print index\n",
    "            #print(\"----------------------\")\n",
    "        #print (combined_numbers)\n",
    "        #print (list(temp))\n",
    "        #print list[temp]\n",
    "        raw_numbers = [int(x) for x in list(str(sum(combined_numbers)))]\n",
    "        #print list\n",
    "    print(raw_numbers,end='')"
   ]
  },
  {
   "cell_type": "code",
   "execution_count": null,
   "metadata": {
    "collapsed": true
   },
   "outputs": [],
   "source": []
  }
 ],
 "metadata": {
  "kernelspec": {
   "display_name": "Python 3",
   "language": "python",
   "name": "python3"
  },
  "language_info": {
   "codemirror_mode": {
    "name": "ipython",
    "version": 3
   },
   "file_extension": ".py",
   "mimetype": "text/x-python",
   "name": "python",
   "nbconvert_exporter": "python",
   "pygments_lexer": "ipython3",
   "version": "3.5.2"
  }
 },
 "nbformat": 4,
 "nbformat_minor": 1
}
