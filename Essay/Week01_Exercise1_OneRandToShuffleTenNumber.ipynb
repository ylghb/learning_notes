{
 "cells": [
  {
   "cell_type": "markdown",
   "metadata": {},
   "source": [
    "0から9までの10個数字での重複なしの乱数数列を生成する｡ ただし､乱数関数は1回だけ執行します｡\n",
    "\n",
    "Eg:\n",
    "Output:\n",
    "    2 3 1 6 0 4 9 5 8 7"
   ]
  },
  {
   "cell_type": "code",
   "execution_count": 22,
   "metadata": {
    "collapsed": false
   },
   "outputs": [
    {
     "name": "stdout",
     "output_type": "stream",
     "text": [
      "[1, 5, 0, 8, 3, 2, 7, 9, 6, 4]\n"
     ]
    }
   ],
   "source": [
    "from math import modf\n",
    "import random\n",
    "randomNumber = random.random()\n",
    "answers = []\n",
    "while True:\n",
    "    randomNumber *= 10\n",
    "    decimal, integer = modf(randomNumber)\n",
    "    if int(integer) not in answers:\n",
    "        answers.append(int(integer))\n",
    "    randomNumber = decimal\n",
    "    if len(answers) >= 10:\n",
    "        break\n",
    "        \n",
    "print answers"
   ]
  },
  {
   "cell_type": "markdown",
   "metadata": {},
   "source": [
    "What if the randum number is 0.3333333333333333333333333333333333\n",
    "\n",
    "randomNumber *= 10  which means the result could be 0 ~ 9, but when we use the result to mod a number, say 4, then the result is not random anymore."
   ]
  },
  {
   "cell_type": "code",
   "execution_count": 21,
   "metadata": {
    "collapsed": false
   },
   "outputs": [
    {
     "name": "stdout",
     "output_type": "stream",
     "text": [
      "[0, 1, 2, 3, 4, 5, 6, 7, 8, 9]\n",
      "0.505995018013\n",
      "-------------------------------\n",
      "5 0.059950180126\n",
      "5\n",
      "[5]\n",
      "[0, 1, 2, 3, 4, 6, 7, 8, 9]\n",
      "0 0.539551621134\n",
      "0\n",
      "[5, 0]\n",
      "[1, 2, 3, 4, 6, 7, 8, 9]\n",
      "4 0.316412969072\n",
      "6\n",
      "[5, 0, 6]\n",
      "[1, 2, 3, 4, 7, 8, 9]\n",
      "2 0.214890783507\n",
      "3\n",
      "[5, 0, 6, 3]\n",
      "[1, 2, 4, 7, 8, 9]\n",
      "1 0.28934470104\n",
      "2\n",
      "[5, 0, 6, 3, 2]\n",
      "[1, 4, 7, 8, 9]\n",
      "1 0.446723505202\n",
      "4\n",
      "[5, 0, 6, 3, 2, 4]\n",
      "[1, 7, 8, 9]\n",
      "1 0.786894020806\n",
      "7\n",
      "[5, 0, 6, 3, 2, 4, 7]\n",
      "[1, 8, 9]\n",
      "2 0.360682062418\n",
      "9\n",
      "[5, 0, 6, 3, 2, 4, 7, 9]\n",
      "[1, 8]\n",
      "0 0.721364124837\n",
      "1\n",
      "[5, 0, 6, 3, 2, 4, 7, 9, 1]\n",
      "[8]\n",
      "0 0.721364124837\n",
      "8\n",
      "[5, 0, 6, 3, 2, 4, 7, 9, 1, 8]\n",
      "[]\n",
      "-------------------------------\n",
      "[5, 0, 6, 3, 2, 4, 7, 9, 1, 8]\n"
     ]
    }
   ],
   "source": [
    "# What if the randnumber is 0.3333333333333333333333333333333333 ?\n",
    "\n",
    "from math import modf\n",
    "import random\n",
    "\n",
    "randomNumber = random.random()\n",
    "numbers = range(0, 10)      # numbers = (0, 1, 2, 3, 4, 5, 6, 7, 8, 9)\n",
    "print numbers\n",
    "print randomNumber\n",
    "print '-------------------------------' \n",
    "answers = []\n",
    "while True:\n",
    "    randomNumber *= len(numbers)\n",
    "    decimal, integer = modf(randomNumber)\n",
    "    integer = int(integer)\n",
    "    print integer, decimal\n",
    "    \n",
    "    chosenNumber = numbers[integer]\n",
    "    print chosenNumber\n",
    "    answers.append(chosenNumber)\n",
    "    print answers\n",
    "    numbers.remove(chosenNumber)\n",
    "    print numbers\n",
    "    randomNumber = decimal\n",
    "    \n",
    "    if len(answers) >= 10:\n",
    "        break\n",
    "print '-------------------------------'        \n",
    "print answers"
   ]
  },
  {
   "cell_type": "code",
   "execution_count": null,
   "metadata": {
    "collapsed": true
   },
   "outputs": [],
   "source": []
  }
 ],
 "metadata": {
  "anaconda-cloud": {},
  "kernelspec": {
   "display_name": "Python [Root]",
   "language": "python",
   "name": "Python [Root]"
  },
  "language_info": {
   "codemirror_mode": {
    "name": "ipython",
    "version": 2
   },
   "file_extension": ".py",
   "mimetype": "text/x-python",
   "name": "python",
   "nbconvert_exporter": "python",
   "pygments_lexer": "ipython2",
   "version": "2.7.12"
  }
 },
 "nbformat": 4,
 "nbformat_minor": 0
}
